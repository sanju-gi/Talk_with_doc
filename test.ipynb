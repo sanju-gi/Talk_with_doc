{
 "cells": [
  {
   "cell_type": "code",
   "execution_count": 1,
   "metadata": {},
   "outputs": [
    {
     "data": {
      "text/plain": [
       "True"
      ]
     },
     "execution_count": 1,
     "metadata": {},
     "output_type": "execute_result"
    }
   ],
   "source": [
    "import os\n",
    "from dotenv import load_dotenv\n",
    "load_dotenv()"
   ]
  },
  {
   "cell_type": "code",
   "execution_count": 2,
   "metadata": {},
   "outputs": [],
   "source": [
    "os.environ['OPENAI_API_KEY']=os.getenv('OPENAI_API_KEY')"
   ]
  },
  {
   "cell_type": "code",
   "execution_count": 3,
   "metadata": {},
   "outputs": [
    {
     "name": "stderr",
     "output_type": "stream",
     "text": [
      "C:\\Users\\reach\\AppData\\Roaming\\Python\\Python311\\site-packages\\pandas\\core\\arrays\\masked.py:60: UserWarning: Pandas requires version '1.3.6' or newer of 'bottleneck' (version '1.3.5' currently installed).\n",
      "  from pandas.core import (\n"
     ]
    }
   ],
   "source": [
    "from llama_index.core import VectorStoreIndex,SimpleDirectoryReader\n",
    "documents=SimpleDirectoryReader(\"docs_read\").load_data()"
   ]
  },
  {
   "cell_type": "code",
   "execution_count": 4,
   "metadata": {},
   "outputs": [
    {
     "data": {
      "text/plain": [
       "[Document(id_='0b4d524f-7638-46a6-bc9b-075c8ba92691', embedding=None, metadata={'page_label': '1', 'file_name': 'e-Nomination.pdf', 'file_path': 'c:\\\\Users\\\\reach\\\\Dropbox\\\\PC\\\\Desktop\\\\Talk_with_doc\\\\docs_read\\\\e-Nomination.pdf', 'file_type': 'application/pdf', 'file_size': 324074, 'creation_date': '2024-07-04', 'last_modified_date': '2024-04-09'}, excluded_embed_metadata_keys=['file_name', 'file_type', 'file_size', 'creation_date', 'last_modified_date', 'last_accessed_date'], excluded_llm_metadata_keys=['file_name', 'file_type', 'file_size', 'creation_date', 'last_modified_date', 'last_accessed_date'], relationships={}, text=\"The Employees'  Pension Scheme,\\nFORM 2\\nEMPLOYEES' PROVIDENT FUNDS SCHEME, 1952\\n[Paragraphs 33 AND 61(1)]\\nEMPLOYEES' PENSION SCHEME, 1995\\n[Paragraphs 18]\\nDECLARATION AND NOMINATION FORM UNDER THE EMPLOYEES' PROVIDENT FUNDS\\nSCHEME AND EMPLOYEES' PENSION SCHEME\\n \\nName (in block letters)\\nFather's / Husband's Name\\nDate of Birth\\nGender\\nMarital StatusUAN\\n(A) Date of Joining of EPF Scheme,1.\\n2.\\n4.3.\\n6.5.\\n9.\\nPART A (EPF)\\nI hereby nominate person(s) / cancel the nomination made by me previously and nominate the person\\n(s) mentioned below to receive the amount standing to my credit in the Employees' Provident Fund, in the\\n*Certified that I have no family as defined in Para 2(g) of the Employees' Provident Funds Scheme, 1952 and should I\\nacquire a family hereafter the above nomination should be deemed as cancelled.\\n*Certified that my father/mother is/are dependant upon me.2.1.\\n(Signature is not required as the document is to be digitally signed)SANJEEV SINGH:\\n:Bhabatosh Singh\\n:\\n:MALE10/08/1987\\n::100356738122\\nMARRIED\\n:08/10/2012\\nName of the\\n Nominee / Nominees\\n(1)Address\\n(2)Nominees's\\nrelationship  with\\nthe Member\\n(3)Date of Birth\\n(4)Total amount or\\nshare of\\naccumulations in\\nProvident Fund to\\nbe paid to each\\nnominee\\n(5)If the Nominee is\\nminor, name and\\nrelationship and\\naddress of the\\nguardian who may\\nreceive the amont\\nduring the minority of\\nnominee\\n(6)\\nAPARNA KUMARI\\nAADHAAR: XXXX\\nXXXX 3075\\nBank A/c: NOT\\nAVAILABLE\\n144, Naveen Co\\noperative, Ganghajor,\\nChira Chas, Bokaro,\\nBOKARO, JHARKHAND,\\n827013Wife 27/10/1990 100% --08/10/2012-- (B) Date of Joining of FPS Scheme,\\n::\\n(C) Date of Joining of EPS Scheme,7.Address (Permanent) 144, Naveen Co operative, Ganghajor, Chira Chas, Bokaro, BOKARO,\\nJHARKHAND, 827013:\\n8. : Address (Temporary) F1, Ramadootha Residency, 2nd Main Roopena Agrahara, Bangalore,\\nBENGALURU (BANGALORE) URBAN, KARNATAKA, 560068\\n \", mimetype='text/plain', start_char_idx=None, end_char_idx=None, text_template='{metadata_str}\\n\\n{content}', metadata_template='{key}: {value}', metadata_seperator='\\n'),\n",
       " Document(id_='01c2aa94-ca94-451a-8c0c-5c960e87be9d', embedding=None, metadata={'page_label': '2', 'file_name': 'e-Nomination.pdf', 'file_path': 'c:\\\\Users\\\\reach\\\\Dropbox\\\\PC\\\\Desktop\\\\Talk_with_doc\\\\docs_read\\\\e-Nomination.pdf', 'file_type': 'application/pdf', 'file_size': 324074, 'creation_date': '2024-07-04', 'last_modified_date': '2024-04-09'}, excluded_embed_metadata_keys=['file_name', 'file_type', 'file_size', 'creation_date', 'last_modified_date', 'last_accessed_date'], excluded_llm_metadata_keys=['file_name', 'file_type', 'file_size', 'creation_date', 'last_modified_date', 'last_accessed_date'], relationships={}, text=\"I hereby nominate the following person for receiving the monthly widow pension admissible under\\npara 16(2)(a)(i) and (ii) in the event of my death without leaving any eligible family member for receiving\\n(Signature is not required as the document is to be digitally signed)PART B (EPS)\\n(Para 18)\\n*Certified that I have no family as defined in Para 2(vii) of the Employees' Pension Scheme, 1995 and\\nshould I acquire a family hereafter I shall furnish particulars thereon in the above form.I hereby furnish below particulars of the members of my family who would be eligible to receive\\nwidow / children pension in the event of my death:\\nDate :The Employees'  Pension Scheme,\\nSl. No.\\n(1)Name of the Family members\\n(2)Address\\n(3)Date of Birth\\n(4)Relationship with\\nthe member\\n(5)\\n1\\nAPARNA KUMARI\\nAADHAAR: XXXX XXXX 3075\\nBank A/c: NOT AVAILABLE\\n144, Naveen Co operative,\\nGanghajor, Chira Chas, Bokaro,\\nBOKARO, JHARKHAND, 82701327/10/1990 Wife\\nName and Address of the Nominee Date of BirthRelationship with the member\\n-- -- --\\n09-Apr-2024\", mimetype='text/plain', start_char_idx=None, end_char_idx=None, text_template='{metadata_str}\\n\\n{content}', metadata_template='{key}: {value}', metadata_seperator='\\n')]"
      ]
     },
     "execution_count": 4,
     "metadata": {},
     "output_type": "execute_result"
    }
   ],
   "source": [
    "documents"
   ]
  },
  {
   "cell_type": "code",
   "execution_count": 5,
   "metadata": {},
   "outputs": [
    {
     "data": {
      "application/vnd.jupyter.widget-view+json": {
       "model_id": "d2b06702a5cc4d5f9d6f96279e5c4320",
       "version_major": 2,
       "version_minor": 0
      },
      "text/plain": [
       "Parsing nodes:   0%|          | 0/2 [00:00<?, ?it/s]"
      ]
     },
     "metadata": {},
     "output_type": "display_data"
    },
    {
     "data": {
      "application/vnd.jupyter.widget-view+json": {
       "model_id": "87c8549aaf1041528f52ca0b22adb089",
       "version_major": 2,
       "version_minor": 0
      },
      "text/plain": [
       "Generating embeddings:   0%|          | 0/2 [00:00<?, ?it/s]"
      ]
     },
     "metadata": {},
     "output_type": "display_data"
    }
   ],
   "source": [
    "index=VectorStoreIndex.from_documents(documents,show_progress=True)"
   ]
  },
  {
   "cell_type": "code",
   "execution_count": 6,
   "metadata": {},
   "outputs": [
    {
     "data": {
      "text/plain": [
       "<llama_index.core.indices.vector_store.base.VectorStoreIndex at 0x1ee4918bcd0>"
      ]
     },
     "execution_count": 6,
     "metadata": {},
     "output_type": "execute_result"
    }
   ],
   "source": [
    "index"
   ]
  },
  {
   "cell_type": "code",
   "execution_count": 20,
   "metadata": {},
   "outputs": [],
   "source": [
    "query_engine=index.as_query_engine()"
   ]
  },
  {
   "cell_type": "code",
   "execution_count": 21,
   "metadata": {},
   "outputs": [],
   "source": [
    "response=query_engine.query(\"What is the value of UAN\")"
   ]
  },
  {
   "cell_type": "code",
   "execution_count": 22,
   "metadata": {},
   "outputs": [
    {
     "name": "stdout",
     "output_type": "stream",
     "text": [
      "100356738122\n"
     ]
    }
   ],
   "source": [
    "print(response)"
   ]
  },
  {
   "cell_type": "code",
   "execution_count": 23,
   "metadata": {},
   "outputs": [
    {
     "name": "stdout",
     "output_type": "stream",
     "text": [
      "Final Response: 100356738122\n",
      "______________________________________________________________________\n",
      "Source Node 1/2\n",
      "Node ID: ee50cd7e-b3cc-4818-b66f-d3bd9293265d\n",
      "Similarity: 0.6953538572996429\n",
      "Text: The Employees'  Pension Scheme, FORM 2 EMPLOYEES' PROVIDENT\n",
      "FUNDS SCHEME, 1952 [Paragraphs 33 AND 61(1)] EMPLOYEES' PENSION\n",
      "SCHEME, 1995 [Paragraphs 18] DECLARATION AND NOMINATION FORM UNDER THE\n",
      "EMPLOYEES' PROVIDENT FUNDS SCHEME AND EMPLOYEES' PENSION SCHEME   Name\n",
      "(in block letters) Father's / Husband's Name Date of Birth Gender\n",
      "Marital StatusU...\n",
      "______________________________________________________________________\n",
      "Source Node 2/2\n",
      "Node ID: 6a4e80e6-9bda-4a94-8e0d-1fa8f348c1b6\n",
      "Similarity: 0.6915779325353978\n",
      "Text: I hereby nominate the following person for receiving the monthly\n",
      "widow pension admissible under para 16(2)(a)(i) and (ii) in the event\n",
      "of my death without leaving any eligible family member for receiving\n",
      "(Signature is not required as the document is to be digitally\n",
      "signed)PART B (EPS) (Para 18) *Certified that I have no family as\n",
      "defined in Para...\n",
      "100356738122\n"
     ]
    }
   ],
   "source": [
    "from llama_index.legacy.response.pprint_utils import pprint_response\n",
    "pprint_response(response,show_source=True)\n",
    "print(response)"
   ]
  },
  {
   "cell_type": "code",
   "execution_count": 24,
   "metadata": {},
   "outputs": [],
   "source": [
    "from llama_index.legacy.retrievers import VectorIndexRetriever\n",
    "from llama_index.legacy.query_engine import RetrieverQueryEngine\n",
    "from llama_index.legacy.indices.postprocessor import SimilarityPostprocessor\n",
    "\n",
    "retriever=VectorIndexRetriever(index=index,similarity_top_k=4)\n",
    "postprocessor=SimilarityPostprocessor(similarity_cutoff=0.80)\n",
    "\n",
    "query_engine=RetrieverQueryEngine(retriever=retriever,\n",
    "                                  node_postprocessors=[postprocessor])"
   ]
  },
  {
   "cell_type": "code",
   "execution_count": 18,
   "metadata": {},
   "outputs": [
    {
     "name": "stdout",
     "output_type": "stream",
     "text": [
      "F1, Ramadootha Residency, 2nd Main Roopena Agrahara, Bangalore, BENGALURU (BANGALORE) URBAN, KARNATAKA, 560068\n"
     ]
    }
   ],
   "source": [
    "import os.path\n",
    "from llama_index.legacy import (VectorStoreIndex,SimpleDirectoryReader,StorageContext,load_index_from_storage)\n",
    "\n",
    "# check if storage already exists\n",
    "PERSIST_DIR = \"./storage\"\n",
    "if not os.path.exists(PERSIST_DIR):\n",
    "    # load the documents and create the index\n",
    "    documents = SimpleDirectoryReader(\"docs_read\").load_data()\n",
    "    index = VectorStoreIndex.from_documents(documents)\n",
    "    # store it for later\n",
    "    index.storage_context.persist(persist_dir=PERSIST_DIR)\n",
    "else:\n",
    "    # load the existing index\n",
    "    storage_context = StorageContext.from_defaults(persist_dir=PERSIST_DIR)\n",
    "    index = load_index_from_storage(storage_context)\n",
    "\n",
    "# either way we can now query the index\n",
    "query_engine = index.as_query_engine()\n",
    "response = query_engine.query(\"What is the value of address(Temporary)?\")\n",
    "print(response)"
   ]
  }
 ],
 "metadata": {
  "kernelspec": {
   "display_name": "base",
   "language": "python",
   "name": "python3"
  },
  "language_info": {
   "codemirror_mode": {
    "name": "ipython",
    "version": 3
   },
   "file_extension": ".py",
   "mimetype": "text/x-python",
   "name": "python",
   "nbconvert_exporter": "python",
   "pygments_lexer": "ipython3",
   "version": "3.11.5"
  }
 },
 "nbformat": 4,
 "nbformat_minor": 2
}
